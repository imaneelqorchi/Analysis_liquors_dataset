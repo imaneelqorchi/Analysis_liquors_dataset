{
 "cells": [
  {
   "cell_type": "markdown",
   "metadata": {},
   "source": [
    "## 1. Preprocessing"
   ]
  },
  {
   "cell_type": "code",
   "execution_count": 151,
   "metadata": {},
   "outputs": [],
   "source": [
    "import matplotlib.pyplot as plt\n",
    "import numpy as np\n",
    "import pandas as pd\n",
    "from mlxtend.frequent_patterns import apriori\n",
    "from mlxtend.frequent_patterns import association_rules\n"
   ]
  },
  {
   "cell_type": "code",
   "execution_count": 152,
   "metadata": {},
   "outputs": [],
   "source": [
    "# Import the data set \n",
    "df = pd.read_excel(\"Liquors_dataset.xlsx\",header = 0)\n",
    "\n",
    "# fix numerical types\n",
    "df = df.applymap(lambda x: x.replace(\"\\t\",\"\") if type(x) == str else x)\n",
    "df = df.applymap(lambda x: x.replace(\" \",\"\") if type(x) == str else x)\n",
    "df = df.applymap(lambda x: float(x) if isinstance(x,str) and x.replace(\".\",\"\").isdigit() else x) \n"
   ]
  },
  {
   "cell_type": "code",
   "execution_count": 153,
   "metadata": {
    "scrolled": false
   },
   "outputs": [
    {
     "data": {
      "text/html": [
       "<div>\n",
       "<style scoped>\n",
       "    .dataframe tbody tr th:only-of-type {\n",
       "        vertical-align: middle;\n",
       "    }\n",
       "\n",
       "    .dataframe tbody tr th {\n",
       "        vertical-align: top;\n",
       "    }\n",
       "\n",
       "    .dataframe thead th {\n",
       "        text-align: right;\n",
       "    }\n",
       "</style>\n",
       "<table border=\"1\" class=\"dataframe\">\n",
       "  <thead>\n",
       "    <tr style=\"text-align: right;\">\n",
       "      <th></th>\n",
       "      <th>Order Id</th>\n",
       "      <th>Product categorie</th>\n",
       "      <th>Product subcategorie</th>\n",
       "      <th>Product reference</th>\n",
       "      <th>Product quantity</th>\n",
       "      <th>Total price (unit price x product quantity)</th>\n",
       "      <th>Supplier country</th>\n",
       "      <th>Supplier ID</th>\n",
       "    </tr>\n",
       "  </thead>\n",
       "  <tbody>\n",
       "    <tr>\n",
       "      <th>0</th>\n",
       "      <td>61865</td>\n",
       "      <td>Spirits</td>\n",
       "      <td>Anise</td>\n",
       "      <td>483222</td>\n",
       "      <td>2</td>\n",
       "      <td>14.90</td>\n",
       "      <td>Spain</td>\n",
       "      <td>1</td>\n",
       "    </tr>\n",
       "    <tr>\n",
       "      <th>1</th>\n",
       "      <td>62447</td>\n",
       "      <td>Wine</td>\n",
       "      <td>Rosé</td>\n",
       "      <td>822222</td>\n",
       "      <td>12</td>\n",
       "      <td>64.20</td>\n",
       "      <td>Spain</td>\n",
       "      <td>1</td>\n",
       "    </tr>\n",
       "    <tr>\n",
       "      <th>2</th>\n",
       "      <td>64401</td>\n",
       "      <td>Spirits</td>\n",
       "      <td>Herballiquor</td>\n",
       "      <td>434732</td>\n",
       "      <td>1</td>\n",
       "      <td>13.15</td>\n",
       "      <td>Spain</td>\n",
       "      <td>2</td>\n",
       "    </tr>\n",
       "    <tr>\n",
       "      <th>3</th>\n",
       "      <td>64588</td>\n",
       "      <td>Wine</td>\n",
       "      <td>red</td>\n",
       "      <td>600772</td>\n",
       "      <td>30</td>\n",
       "      <td>172.50</td>\n",
       "      <td>Spain</td>\n",
       "      <td>3</td>\n",
       "    </tr>\n",
       "    <tr>\n",
       "      <th>4</th>\n",
       "      <td>64674</td>\n",
       "      <td>Spirits</td>\n",
       "      <td>Tequila</td>\n",
       "      <td>857357</td>\n",
       "      <td>1</td>\n",
       "      <td>36.70</td>\n",
       "      <td>Spain</td>\n",
       "      <td>1</td>\n",
       "    </tr>\n",
       "  </tbody>\n",
       "</table>\n",
       "</div>"
      ],
      "text/plain": [
       "   Order Id Product categorie Product subcategorie  Product reference  \\\n",
       "0     61865           Spirits                Anise             483222   \n",
       "1     62447              Wine                 Rosé             822222   \n",
       "2     64401           Spirits         Herballiquor             434732   \n",
       "3     64588              Wine                  red             600772   \n",
       "4     64674           Spirits              Tequila             857357   \n",
       "\n",
       "   Product quantity  Total price (unit price x product quantity)  \\\n",
       "0                 2                                        14.90   \n",
       "1                12                                        64.20   \n",
       "2                 1                                        13.15   \n",
       "3                30                                       172.50   \n",
       "4                 1                                        36.70   \n",
       "\n",
       "  Supplier country  Supplier ID  \n",
       "0            Spain            1  \n",
       "1            Spain            1  \n",
       "2            Spain            2  \n",
       "3            Spain            3  \n",
       "4            Spain            1  "
      ]
     },
     "execution_count": 153,
     "metadata": {},
     "output_type": "execute_result"
    }
   ],
   "source": [
    "df.head()"
   ]
  },
  {
   "cell_type": "code",
   "execution_count": 154,
   "metadata": {
    "scrolled": true
   },
   "outputs": [
    {
     "data": {
      "text/plain": [
       "Order Id                                         0\n",
       "Product categorie                                0\n",
       "Product subcategorie                           841\n",
       "Product reference                                0\n",
       "Product quantity                                 0\n",
       "Total price (unit price x product quantity)      0\n",
       "Supplier country                                 0\n",
       "Supplier ID                                      0\n",
       "dtype: int64"
      ]
     },
     "execution_count": 154,
     "metadata": {},
     "output_type": "execute_result"
    }
   ],
   "source": [
    "# Check if there is any missing values\n",
    "df.isna().sum()"
   ]
  },
  {
   "cell_type": "code",
   "execution_count": 155,
   "metadata": {},
   "outputs": [
    {
     "name": "stdout",
     "output_type": "stream",
     "text": [
      "Number of columns:  8 / Number of rows:  392105\n",
      "\n",
      "Features: \n",
      "['Order Id', 'Product categorie', 'Product subcategorie', 'Product reference', 'Product quantity', 'Total price (unit price x product quantity)', 'Supplier country', 'Supplier ID']\n",
      "\n",
      "Unique values per feature: \n",
      "\n",
      " Product categorie:  ['Spirits' 'Wine' 'Accessories' 'Gourmet' 'Lotsandgifts' 'Beer'\n",
      " 'Christmasgifts']\n",
      "\n",
      " Supplier country:  ['Spain' 'Germany' 'Italy' 'France' 'Portugal' 'UnitedKingdom'\n",
      " 'Netherlands' 'Belgium' 'Serbia' 'Luxembourg' 'Greece']\n",
      "\n",
      "Number of Orders:  217988\n",
      "\n",
      "Number of references:  58168\n",
      "\n",
      "Number of subcategories:  169\n"
     ]
    }
   ],
   "source": [
    "# General info on dataset\n",
    "\n",
    "print(\"Number of columns: \",df.shape[1], \"/ Number of rows: \",df.shape[0])\n",
    "print(\"\\nFeatures: \")\n",
    "print(list(df.columns))\n",
    "print(\"\\nUnique values per feature: \")\n",
    "print(\"\\n Product categorie: \", df[\"Product categorie\"].unique())\n",
    "print(\"\\n Supplier country: \", df[\"Supplier country\"].unique())\n",
    "print(\"\\nNumber of Orders: \", len(df[\"Order Id\"].unique()))\n",
    "print(\"\\nNumber of references: \", len(df[\"Product reference\"].unique()))\n",
    "print(\"\\nNumber of subcategories: \", len(df[\"Product subcategorie\"].unique()))"
   ]
  },
  {
   "cell_type": "markdown",
   "metadata": {},
   "source": [
    "#### Orders with null subcategorie represents only 0.2% of orders, we can drop them in order to get a homogeneous dataset.\n"
   ]
  },
  {
   "cell_type": "code",
   "execution_count": 156,
   "metadata": {},
   "outputs": [
    {
     "name": "stdout",
     "output_type": "stream",
     "text": [
      "New shape: (391264, 8)\n"
     ]
    },
    {
     "data": {
      "text/plain": [
       "Order Id                                       0\n",
       "Product categorie                              0\n",
       "Product subcategorie                           0\n",
       "Product reference                              0\n",
       "Product quantity                               0\n",
       "Total price (unit price x product quantity)    0\n",
       "Supplier country                               0\n",
       "Supplier ID                                    0\n",
       "dtype: int64"
      ]
     },
     "execution_count": 156,
     "metadata": {},
     "output_type": "execute_result"
    }
   ],
   "source": [
    "# Droping rows where product subcategorie is missing\n",
    "df = df.dropna()\n",
    "print(\"New shape:\",df.shape)\n",
    "df.isna().sum()"
   ]
  },
  {
   "cell_type": "code",
   "execution_count": 157,
   "metadata": {},
   "outputs": [],
   "source": [
    "# Changing the name of columns Total price \n",
    "names = df.columns.tolist()\n",
    "names[names.index('Total price (unit price x product quantity)')] = 'Total price'\n",
    "df.columns = names"
   ]
  },
  {
   "cell_type": "code",
   "execution_count": 158,
   "metadata": {
    "scrolled": false
   },
   "outputs": [
    {
     "data": {
      "text/html": [
       "<div>\n",
       "<style scoped>\n",
       "    .dataframe tbody tr th:only-of-type {\n",
       "        vertical-align: middle;\n",
       "    }\n",
       "\n",
       "    .dataframe tbody tr th {\n",
       "        vertical-align: top;\n",
       "    }\n",
       "\n",
       "    .dataframe thead th {\n",
       "        text-align: right;\n",
       "    }\n",
       "</style>\n",
       "<table border=\"1\" class=\"dataframe\">\n",
       "  <thead>\n",
       "    <tr style=\"text-align: right;\">\n",
       "      <th></th>\n",
       "      <th>Order Id</th>\n",
       "      <th>Product categorie</th>\n",
       "      <th>Product subcategorie</th>\n",
       "      <th>Product reference</th>\n",
       "      <th>Product quantity</th>\n",
       "      <th>Total price</th>\n",
       "      <th>Supplier country</th>\n",
       "      <th>Supplier ID</th>\n",
       "    </tr>\n",
       "  </thead>\n",
       "  <tbody>\n",
       "    <tr>\n",
       "      <th>0</th>\n",
       "      <td>61865</td>\n",
       "      <td>Spirits</td>\n",
       "      <td>Anise</td>\n",
       "      <td>483222</td>\n",
       "      <td>2</td>\n",
       "      <td>14.90</td>\n",
       "      <td>Spain</td>\n",
       "      <td>1</td>\n",
       "    </tr>\n",
       "    <tr>\n",
       "      <th>1</th>\n",
       "      <td>62447</td>\n",
       "      <td>Wine</td>\n",
       "      <td>Rosé</td>\n",
       "      <td>822222</td>\n",
       "      <td>12</td>\n",
       "      <td>64.20</td>\n",
       "      <td>Spain</td>\n",
       "      <td>1</td>\n",
       "    </tr>\n",
       "    <tr>\n",
       "      <th>2</th>\n",
       "      <td>64401</td>\n",
       "      <td>Spirits</td>\n",
       "      <td>Herballiquor</td>\n",
       "      <td>434732</td>\n",
       "      <td>1</td>\n",
       "      <td>13.15</td>\n",
       "      <td>Spain</td>\n",
       "      <td>2</td>\n",
       "    </tr>\n",
       "    <tr>\n",
       "      <th>3</th>\n",
       "      <td>64588</td>\n",
       "      <td>Wine</td>\n",
       "      <td>red</td>\n",
       "      <td>600772</td>\n",
       "      <td>30</td>\n",
       "      <td>172.50</td>\n",
       "      <td>Spain</td>\n",
       "      <td>3</td>\n",
       "    </tr>\n",
       "    <tr>\n",
       "      <th>4</th>\n",
       "      <td>64674</td>\n",
       "      <td>Spirits</td>\n",
       "      <td>Tequila</td>\n",
       "      <td>857357</td>\n",
       "      <td>1</td>\n",
       "      <td>36.70</td>\n",
       "      <td>Spain</td>\n",
       "      <td>1</td>\n",
       "    </tr>\n",
       "  </tbody>\n",
       "</table>\n",
       "</div>"
      ],
      "text/plain": [
       "   Order Id Product categorie Product subcategorie  Product reference  \\\n",
       "0     61865           Spirits                Anise             483222   \n",
       "1     62447              Wine                 Rosé             822222   \n",
       "2     64401           Spirits         Herballiquor             434732   \n",
       "3     64588              Wine                  red             600772   \n",
       "4     64674           Spirits              Tequila             857357   \n",
       "\n",
       "   Product quantity  Total price Supplier country  Supplier ID  \n",
       "0                 2        14.90            Spain            1  \n",
       "1                12        64.20            Spain            1  \n",
       "2                 1        13.15            Spain            2  \n",
       "3                30       172.50            Spain            3  \n",
       "4                 1        36.70            Spain            1  "
      ]
     },
     "execution_count": 158,
     "metadata": {},
     "output_type": "execute_result"
    }
   ],
   "source": [
    "df.head()"
   ]
  },
  {
   "cell_type": "code",
   "execution_count": 159,
   "metadata": {
    "scrolled": true
   },
   "outputs": [
    {
     "name": "stdout",
     "output_type": "stream",
     "text": [
      "Top 3 least sold products\n"
     ]
    },
    {
     "data": {
      "text/plain": [
       "Product reference  Product categorie\n",
       "1029347            Wine                 1\n",
       "1065903            Wine                 1\n",
       "1065955            Wine                 1\n",
       "Name: Order Id, dtype: int64"
      ]
     },
     "execution_count": 159,
     "metadata": {},
     "output_type": "execute_result"
    }
   ],
   "source": [
    "# More info\n",
    "\n",
    "df_ref = df.groupby(['Product reference','Product categorie']).count()\n",
    "df_ref = df_ref.sort_values('Order Id')\n",
    "\n",
    "# Top 3 Least sold products\n",
    "print(\"Top 3 least sold products\")\n",
    "df_ref['Order Id'].head(3)\n"
   ]
  },
  {
   "cell_type": "code",
   "execution_count": 160,
   "metadata": {},
   "outputs": [
    {
     "name": "stdout",
     "output_type": "stream",
     "text": [
      "Top 3 most sold products\n"
     ]
    },
    {
     "data": {
      "text/plain": [
       "Product reference  Product categorie\n",
       "436890             Spirits              2695\n",
       "449875             Spirits              2906\n",
       "435488             Spirits              3164\n",
       "Name: Order Id, dtype: int64"
      ]
     },
     "execution_count": 160,
     "metadata": {},
     "output_type": "execute_result"
    }
   ],
   "source": [
    "# Top 3 most sold products \n",
    "print(\"Top 3 most sold products\")\n",
    "df_ref[\"Order Id\"].tail(3)\n"
   ]
  },
  {
   "cell_type": "markdown",
   "metadata": {},
   "source": [
    "# 2. Data visualization"
   ]
  },
  {
   "cell_type": "markdown",
   "metadata": {},
   "source": [
    "## Number of sales per categorie"
   ]
  },
  {
   "cell_type": "code",
   "execution_count": 163,
   "metadata": {},
   "outputs": [
    {
     "data": {
      "text/plain": [
       "Product categorie\n",
       "Accessories       1466\n",
       "Beer              9337\n",
       "Christmasgifts      99\n",
       "Gourmet           9409\n",
       "Lotsandgifts      3352\n",
       "Name: Order Id, dtype: int64"
      ]
     },
     "execution_count": 163,
     "metadata": {},
     "output_type": "execute_result"
    }
   ],
   "source": [
    "df_categorie = df.groupby(['Product categorie']).count()\n",
    "df_categorie[\"Order Id\"].head()"
   ]
  },
  {
   "cell_type": "code",
   "execution_count": 164,
   "metadata": {
    "scrolled": true
   },
   "outputs": [
    {
     "data": {
      "image/png": "[encoded data removed]",
      "text/plain": [
       "<Figure size 648x360 with 1 Axes>"
      ]
     },
     "metadata": {
      "needs_background": "light"
     },
     "output_type": "display_data"
    }
   ],
   "source": [
    "\n",
    "plt.figure(1, figsize=(9,5))\n",
    "plt.bar(df_categorie.index,df_categorie['Order Id'])\n",
    "plt.xlabel(\"Product categories\")\n",
    "plt.ylabel(\"Number of orders\")\n",
    "plt.savefig('num_sales_category.png')\n"
   ]
  },
  {
   "cell_type": "markdown",
   "metadata": {},
   "source": [
    "## Average price by category\n"
   ]
  },
  {
   "cell_type": "code",
   "execution_count": 165,
   "metadata": {},
   "outputs": [],
   "source": [
    "df[\"Unit price\"] = df[\"Total price\"] / df[\"Product quantity\"]\n",
    "df_price = df.groupby(\"Product categorie\")[\"Unit price\"].mean()\n",
    "df_price = df_price.apply(lambda x: round(x,2))"
   ]
  },
  {
   "cell_type": "code",
   "execution_count": 166,
   "metadata": {},
   "outputs": [
    {
     "data": {
      "text/plain": [
       "Product categorie\n",
       "Accessories       45.52\n",
       "Beer               4.46\n",
       "Christmasgifts    54.94\n",
       "Gourmet            8.55\n",
       "Lotsandgifts      47.18\n",
       "Spirits           26.29\n",
       "Wine              17.08\n",
       "Name: Unit price, dtype: float64"
      ]
     },
     "execution_count": 166,
     "metadata": {},
     "output_type": "execute_result"
    }
   ],
   "source": [
    "df_price.head(10)"
   ]
  },
  {
   "cell_type": "code",
   "execution_count": 167,
   "metadata": {
    "scrolled": true
   },
   "outputs": [
    {
     "data": {
      "text/plain": [
       "Text(0.5, 1.0, 'Average price per categorie')"
      ]
     },
     "execution_count": 167,
     "metadata": {},
     "output_type": "execute_result"
    },
    {
     "data": {
      "image/png": "[encoded data removed]",
      "text/plain": [
       "<Figure size 648x360 with 1 Axes>"
      ]
     },
     "metadata": {
      "needs_background": "light"
     },
     "output_type": "display_data"
    }
   ],
   "source": [
    "\n",
    "plt.figure(1, figsize=(9,5))\n",
    "plt.barh(df_price.index,list(df_price) )\n",
    "plt.xlabel(\"Average price\")\n",
    "plt.ylabel(\"Product categories\")\n",
    "plt.title(\"Average price per categorie\")\n",
    "\n"
   ]
  },
  {
   "cell_type": "markdown",
   "metadata": {},
   "source": [
    "## Contribution of each category in total revenue"
   ]
  },
  {
   "cell_type": "code",
   "execution_count": 168,
   "metadata": {},
   "outputs": [],
   "source": [
    "df_contri = df.groupby(\"Product categorie\")[\"Total price\"].sum()\n",
    "df_contri = df_contri/sum(df[\"Total price\"])*100\n",
    "df_contri = df_contri.apply(lambda x : round(x,2))"
   ]
  },
  {
   "cell_type": "code",
   "execution_count": 169,
   "metadata": {
    "scrolled": true
   },
   "outputs": [
    {
     "data": {
      "text/plain": [
       "Product categorie\n",
       "Accessories        0.31\n",
       "Beer               0.71\n",
       "Christmasgifts     0.03\n",
       "Gourmet            0.77\n",
       "Lotsandgifts       0.81\n",
       "Spirits           49.62\n",
       "Wine              47.75\n",
       "Name: Total price, dtype: float64"
      ]
     },
     "execution_count": 169,
     "metadata": {},
     "output_type": "execute_result"
    }
   ],
   "source": [
    "df_contri.head(10)"
   ]
  },
  {
   "cell_type": "code",
   "execution_count": 170,
   "metadata": {
    "scrolled": true
   },
   "outputs": [
    {
     "data": {
      "image/png": "[encoded data removed]",
      "text/plain": [
       "<Figure size 648x360 with 1 Axes>"
      ]
     },
     "metadata": {},
     "output_type": "display_data"
    }
   ],
   "source": [
    "\n",
    "plt.figure(1, figsize=(9,5))    \n",
    "patches, texts = plt.pie(list(df_contri),shadow=True, startangle=90)\n",
    "plt.legend(patches, df_contri.index, loc=\"best\")\n",
    "plt.savefig('cont_category.png')"
   ]
  },
  {
   "cell_type": "markdown",
   "metadata": {},
   "source": [
    "# 3. Average basket analysis"
   ]
  },
  {
   "cell_type": "code",
   "execution_count": 171,
   "metadata": {
    "scrolled": true
   },
   "outputs": [
    {
     "name": "stdout",
     "output_type": "stream",
     "text": [
      "Average basket values:  132.56\n"
     ]
    }
   ],
   "source": [
    "averg_basket = round(sum(df[\"Total price\"]) / len(df[\"Order Id\"].unique()),2)\n",
    "print(\"Average basket values: \", averg_basket)"
   ]
  },
  {
   "cell_type": "markdown",
   "metadata": {},
   "source": [
    "### Average basket per country of origin"
   ]
  },
  {
   "cell_type": "code",
   "execution_count": 172,
   "metadata": {},
   "outputs": [],
   "source": [
    "num_orders = df.groupby('Supplier country').nunique()['Order Id']\n",
    "df_country = df.groupby('Supplier country').sum()[\"Total price\"]/num_orders\n",
    "df_country = df_country.apply(lambda x : round(x,2))"
   ]
  },
  {
   "cell_type": "code",
   "execution_count": 173,
   "metadata": {},
   "outputs": [
    {
     "data": {
      "text/plain": [
       "Supplier country\n",
       "Belgium          140.84\n",
       "France           193.89\n",
       "Germany          107.36\n",
       "Greece           120.15\n",
       "Italy            156.93\n",
       "Luxembourg       303.86\n",
       "Netherlands      121.20\n",
       "Portugal         107.65\n",
       "Serbia            78.23\n",
       "Spain            126.95\n",
       "UnitedKingdom    135.29\n",
       "dtype: float64"
      ]
     },
     "execution_count": 173,
     "metadata": {},
     "output_type": "execute_result"
    }
   ],
   "source": [
    "df_country"
   ]
  },
  {
   "cell_type": "markdown",
   "metadata": {},
   "source": [
    "#  4. Product mix analysis"
   ]
  },
  {
   "cell_type": "markdown",
   "metadata": {},
   "source": [
    "### Product mix width: Number of categories"
   ]
  },
  {
   "cell_type": "code",
   "execution_count": 174,
   "metadata": {},
   "outputs": [
    {
     "name": "stdout",
     "output_type": "stream",
     "text": [
      "Product mix width: 7 Categories\n"
     ]
    }
   ],
   "source": [
    "print(\"Product mix width:\",df['Product categorie'].nunique(),\"Categories\")"
   ]
  },
  {
   "cell_type": "markdown",
   "metadata": {},
   "source": [
    "### Product mix depth: number of subcategories per categorie"
   ]
  },
  {
   "cell_type": "code",
   "execution_count": 175,
   "metadata": {
    "scrolled": false
   },
   "outputs": [
    {
     "name": "stdout",
     "output_type": "stream",
     "text": [
      "Product categorie\n",
      "Accessories       22\n",
      "Beer              50\n",
      "Christmasgifts     4\n",
      "Gourmet           45\n",
      "Lotsandgifts       5\n",
      "Spirits           37\n",
      "Wine               7\n",
      "Name: Product subcategorie, dtype: int64\n"
     ]
    }
   ],
   "source": [
    "num_sub = df.groupby('Product categorie').nunique()[\"Product subcategorie\"]\n",
    "print(num_sub)"
   ]
  },
  {
   "cell_type": "code",
   "execution_count": 176,
   "metadata": {},
   "outputs": [
    {
     "data": {
      "text/plain": [
       "Text(0, 0.5, 'Number of subcategories')"
      ]
     },
     "execution_count": 176,
     "metadata": {},
     "output_type": "execute_result"
    },
    {
     "data": {
      "image/png": "[encoded data removed]",
      "text/plain": [
       "<Figure size 648x360 with 1 Axes>"
      ]
     },
     "metadata": {
      "needs_background": "light"
     },
     "output_type": "display_data"
    }
   ],
   "source": [
    "plt.figure(1, figsize=(9,5))\n",
    "plt.bar(list(num_sub.index),list(num_sub))\n",
    "plt.xlabel(\"Product categories\")\n",
    "plt.ylabel(\"Number of subcategories\")\n"
   ]
  },
  {
   "cell_type": "code",
   "execution_count": 177,
   "metadata": {},
   "outputs": [
    {
     "name": "stdout",
     "output_type": "stream",
     "text": [
      "Average product mix depth: 24\n"
     ]
    }
   ],
   "source": [
    "print(\"Average product mix depth:\", round(num_sub.mean()))"
   ]
  },
  {
   "cell_type": "markdown",
   "metadata": {},
   "source": [
    "### Product mix depth: Average number of references per subcategorie"
   ]
  },
  {
   "cell_type": "code",
   "execution_count": 178,
   "metadata": {},
   "outputs": [
    {
     "name": "stdout",
     "output_type": "stream",
     "text": [
      "Average number of references per subcategorie: 344.0\n"
     ]
    }
   ],
   "source": [
    "num_ref = df.groupby('Product subcategorie').nunique()['Product reference']\n",
    "print(\"Average number of references per subcategorie:\",round(num_ref.mean(),0))"
   ]
  },
  {
   "cell_type": "markdown",
   "metadata": {},
   "source": [
    "### Product mix length"
   ]
  },
  {
   "cell_type": "code",
   "execution_count": 179,
   "metadata": {
    "scrolled": true
   },
   "outputs": [
    {
     "name": "stdout",
     "output_type": "stream",
     "text": [
      "Length of the product mix:  57731 references\n"
     ]
    }
   ],
   "source": [
    "print(\"Length of the product mix: \",len(df[\"Product reference\"].unique()),\"references\")"
   ]
  },
  {
   "cell_type": "markdown",
   "metadata": {},
   "source": [
    "# 5. Suppliers analysis"
   ]
  },
  {
   "cell_type": "code",
   "execution_count": 180,
   "metadata": {},
   "outputs": [
    {
     "name": "stdout",
     "output_type": "stream",
     "text": [
      "Top 5 suppliers ID: \n"
     ]
    },
    {
     "data": {
      "text/plain": [
       "Supplier ID  Supplier country\n",
       "1            Spain               23692\n",
       "86           Spain               31237\n",
       "124          Spain               38238\n",
       "92           Spain               58278\n",
       "6            Spain               62110\n",
       "Name: Order Id, dtype: int64"
      ]
     },
     "execution_count": 180,
     "metadata": {},
     "output_type": "execute_result"
    }
   ],
   "source": [
    "# Top suppliers\n",
    "df_supp = df.groupby(['Supplier ID','Supplier country']).count()[\"Order Id\"]\n",
    "df_supp = df_supp.sort_values()\n",
    "print(\"Top 5 suppliers ID: \")\n",
    "df_supp.tail(5)"
   ]
  },
  {
   "cell_type": "code",
   "execution_count": 181,
   "metadata": {},
   "outputs": [
    {
     "name": "stdout",
     "output_type": "stream",
     "text": [
      "Supplier country\n",
      "Belgium            4\n",
      "France            47\n",
      "Germany           24\n",
      "Greece             1\n",
      "Italy             34\n",
      "Luxembourg         1\n",
      "Netherlands        9\n",
      "Portugal          13\n",
      "Serbia             1\n",
      "Spain            109\n",
      "UnitedKingdom     23\n",
      "Name: Supplier ID, dtype: int64\n"
     ]
    }
   ],
   "source": [
    "# Number of suppliers per country\n",
    "num_supp = df.groupby('Supplier country').nunique()[\"Supplier ID\"]\n",
    "print(num_supp)"
   ]
  },
  {
   "cell_type": "markdown",
   "metadata": {},
   "source": [
    "### Top suppliers per category"
   ]
  },
  {
   "cell_type": "code",
   "execution_count": 183,
   "metadata": {},
   "outputs": [
    {
     "data": {
      "text/html": [
       "<div>\n",
       "<style scoped>\n",
       "    .dataframe tbody tr th:only-of-type {\n",
       "        vertical-align: middle;\n",
       "    }\n",
       "\n",
       "    .dataframe tbody tr th {\n",
       "        vertical-align: top;\n",
       "    }\n",
       "\n",
       "    .dataframe thead th {\n",
       "        text-align: right;\n",
       "    }\n",
       "</style>\n",
       "<table border=\"1\" class=\"dataframe\">\n",
       "  <thead>\n",
       "    <tr style=\"text-align: right;\">\n",
       "      <th></th>\n",
       "      <th>Product categorie</th>\n",
       "      <th>Supplier ID</th>\n",
       "    </tr>\n",
       "  </thead>\n",
       "  <tbody>\n",
       "    <tr>\n",
       "      <th>400</th>\n",
       "      <td>Wine</td>\n",
       "      <td>6</td>\n",
       "    </tr>\n",
       "    <tr>\n",
       "      <th>541</th>\n",
       "      <td>Wine</td>\n",
       "      <td>165</td>\n",
       "    </tr>\n",
       "    <tr>\n",
       "      <th>395</th>\n",
       "      <td>Wine</td>\n",
       "      <td>1</td>\n",
       "    </tr>\n",
       "    <tr>\n",
       "      <th>253</th>\n",
       "      <td>Spirits</td>\n",
       "      <td>6</td>\n",
       "    </tr>\n",
       "    <tr>\n",
       "      <th>300</th>\n",
       "      <td>Spirits</td>\n",
       "      <td>92</td>\n",
       "    </tr>\n",
       "    <tr>\n",
       "      <th>263</th>\n",
       "      <td>Spirits</td>\n",
       "      <td>19</td>\n",
       "    </tr>\n",
       "    <tr>\n",
       "      <th>207</th>\n",
       "      <td>Lotsandgifts</td>\n",
       "      <td>86</td>\n",
       "    </tr>\n",
       "    <tr>\n",
       "      <th>232</th>\n",
       "      <td>Lotsandgifts</td>\n",
       "      <td>163</td>\n",
       "    </tr>\n",
       "    <tr>\n",
       "      <th>182</th>\n",
       "      <td>Lotsandgifts</td>\n",
       "      <td>23</td>\n",
       "    </tr>\n",
       "    <tr>\n",
       "      <th>88</th>\n",
       "      <td>Gourmet</td>\n",
       "      <td>1</td>\n",
       "    </tr>\n",
       "    <tr>\n",
       "      <th>111</th>\n",
       "      <td>Gourmet</td>\n",
       "      <td>43</td>\n",
       "    </tr>\n",
       "    <tr>\n",
       "      <th>121</th>\n",
       "      <td>Gourmet</td>\n",
       "      <td>86</td>\n",
       "    </tr>\n",
       "    <tr>\n",
       "      <th>78</th>\n",
       "      <td>Christmasgifts</td>\n",
       "      <td>1</td>\n",
       "    </tr>\n",
       "    <tr>\n",
       "      <th>83</th>\n",
       "      <td>Christmasgifts</td>\n",
       "      <td>21</td>\n",
       "    </tr>\n",
       "    <tr>\n",
       "      <th>80</th>\n",
       "      <td>Christmasgifts</td>\n",
       "      <td>6</td>\n",
       "    </tr>\n",
       "    <tr>\n",
       "      <th>48</th>\n",
       "      <td>Beer</td>\n",
       "      <td>34</td>\n",
       "    </tr>\n",
       "    <tr>\n",
       "      <th>53</th>\n",
       "      <td>Beer</td>\n",
       "      <td>77</td>\n",
       "    </tr>\n",
       "    <tr>\n",
       "      <th>73</th>\n",
       "      <td>Beer</td>\n",
       "      <td>207</td>\n",
       "    </tr>\n",
       "    <tr>\n",
       "      <th>8</th>\n",
       "      <td>Accessories</td>\n",
       "      <td>14</td>\n",
       "    </tr>\n",
       "    <tr>\n",
       "      <th>12</th>\n",
       "      <td>Accessories</td>\n",
       "      <td>22</td>\n",
       "    </tr>\n",
       "    <tr>\n",
       "      <th>26</th>\n",
       "      <td>Accessories</td>\n",
       "      <td>99</td>\n",
       "    </tr>\n",
       "  </tbody>\n",
       "</table>\n",
       "</div>"
      ],
      "text/plain": [
       "    Product categorie  Supplier ID\n",
       "400              Wine            6\n",
       "541              Wine          165\n",
       "395              Wine            1\n",
       "253           Spirits            6\n",
       "300           Spirits           92\n",
       "263           Spirits           19\n",
       "207      Lotsandgifts           86\n",
       "232      Lotsandgifts          163\n",
       "182      Lotsandgifts           23\n",
       "88            Gourmet            1\n",
       "111           Gourmet           43\n",
       "121           Gourmet           86\n",
       "78     Christmasgifts            1\n",
       "83     Christmasgifts           21\n",
       "80     Christmasgifts            6\n",
       "48               Beer           34\n",
       "53               Beer           77\n",
       "73               Beer          207\n",
       "8         Accessories           14\n",
       "12        Accessories           22\n",
       "26        Accessories           99"
      ]
     },
     "execution_count": 183,
     "metadata": {},
     "output_type": "execute_result"
    }
   ],
   "source": [
    "df.groupby(['Product categorie','Supplier ID']).nunique()\\\n",
    "                                               .drop(['Supplier ID','Product categorie'],axis=1)\\\n",
    "                                               .reset_index()\\\n",
    "                                               .sort_values(['Product categorie','Product reference'],ascending=False)\\\n",
    "                                               .groupby(['Product categorie'])['Product categorie','Supplier ID'].head(3)\n",
    "\n",
    "\n"
   ]
  },
  {
   "cell_type": "markdown",
   "metadata": {},
   "source": [
    "# 6. Market basket analysis : Association rules"
   ]
  },
  {
   "cell_type": "code",
   "execution_count": 184,
   "metadata": {
    "scrolled": false
   },
   "outputs": [
    {
     "data": {
      "text/html": [
       "<div>\n",
       "<style scoped>\n",
       "    .dataframe tbody tr th:only-of-type {\n",
       "        vertical-align: middle;\n",
       "    }\n",
       "\n",
       "    .dataframe tbody tr th {\n",
       "        vertical-align: top;\n",
       "    }\n",
       "\n",
       "    .dataframe thead th {\n",
       "        text-align: right;\n",
       "    }\n",
       "</style>\n",
       "<table border=\"1\" class=\"dataframe\">\n",
       "  <thead>\n",
       "    <tr style=\"text-align: right;\">\n",
       "      <th></th>\n",
       "      <th>Order Id</th>\n",
       "      <th>Product categorie</th>\n",
       "      <th>Product subcategorie</th>\n",
       "      <th>Product reference</th>\n",
       "      <th>Product quantity</th>\n",
       "      <th>Total price</th>\n",
       "      <th>Supplier country</th>\n",
       "      <th>Supplier ID</th>\n",
       "      <th>Unit price</th>\n",
       "    </tr>\n",
       "  </thead>\n",
       "  <tbody>\n",
       "    <tr>\n",
       "      <th>0</th>\n",
       "      <td>61865</td>\n",
       "      <td>Spirits</td>\n",
       "      <td>Anise</td>\n",
       "      <td>483222</td>\n",
       "      <td>2</td>\n",
       "      <td>14.90</td>\n",
       "      <td>Spain</td>\n",
       "      <td>1</td>\n",
       "      <td>7.45</td>\n",
       "    </tr>\n",
       "    <tr>\n",
       "      <th>1</th>\n",
       "      <td>62447</td>\n",
       "      <td>Wine</td>\n",
       "      <td>Rosé</td>\n",
       "      <td>822222</td>\n",
       "      <td>12</td>\n",
       "      <td>64.20</td>\n",
       "      <td>Spain</td>\n",
       "      <td>1</td>\n",
       "      <td>5.35</td>\n",
       "    </tr>\n",
       "    <tr>\n",
       "      <th>2</th>\n",
       "      <td>64401</td>\n",
       "      <td>Spirits</td>\n",
       "      <td>Herballiquor</td>\n",
       "      <td>434732</td>\n",
       "      <td>1</td>\n",
       "      <td>13.15</td>\n",
       "      <td>Spain</td>\n",
       "      <td>2</td>\n",
       "      <td>13.15</td>\n",
       "    </tr>\n",
       "    <tr>\n",
       "      <th>3</th>\n",
       "      <td>64588</td>\n",
       "      <td>Wine</td>\n",
       "      <td>red</td>\n",
       "      <td>600772</td>\n",
       "      <td>30</td>\n",
       "      <td>172.50</td>\n",
       "      <td>Spain</td>\n",
       "      <td>3</td>\n",
       "      <td>5.75</td>\n",
       "    </tr>\n",
       "    <tr>\n",
       "      <th>4</th>\n",
       "      <td>64674</td>\n",
       "      <td>Spirits</td>\n",
       "      <td>Tequila</td>\n",
       "      <td>857357</td>\n",
       "      <td>1</td>\n",
       "      <td>36.70</td>\n",
       "      <td>Spain</td>\n",
       "      <td>1</td>\n",
       "      <td>36.70</td>\n",
       "    </tr>\n",
       "  </tbody>\n",
       "</table>\n",
       "</div>"
      ],
      "text/plain": [
       "   Order Id Product categorie Product subcategorie  Product reference  \\\n",
       "0     61865           Spirits                Anise             483222   \n",
       "1     62447              Wine                 Rosé             822222   \n",
       "2     64401           Spirits         Herballiquor             434732   \n",
       "3     64588              Wine                  red             600772   \n",
       "4     64674           Spirits              Tequila             857357   \n",
       "\n",
       "   Product quantity  Total price Supplier country  Supplier ID  Unit price  \n",
       "0                 2        14.90            Spain            1        7.45  \n",
       "1                12        64.20            Spain            1        5.35  \n",
       "2                 1        13.15            Spain            2       13.15  \n",
       "3                30       172.50            Spain            3        5.75  \n",
       "4                 1        36.70            Spain            1       36.70  "
      ]
     },
     "execution_count": 184,
     "metadata": {},
     "output_type": "execute_result"
    }
   ],
   "source": [
    "df.head()"
   ]
  },
  {
   "cell_type": "code",
   "execution_count": 185,
   "metadata": {
    "scrolled": true
   },
   "outputs": [
    {
     "data": {
      "text/html": [
       "<div>\n",
       "<style scoped>\n",
       "    .dataframe tbody tr th:only-of-type {\n",
       "        vertical-align: middle;\n",
       "    }\n",
       "\n",
       "    .dataframe tbody tr th {\n",
       "        vertical-align: top;\n",
       "    }\n",
       "\n",
       "    .dataframe thead th {\n",
       "        text-align: right;\n",
       "    }\n",
       "</style>\n",
       "<table border=\"1\" class=\"dataframe\">\n",
       "  <thead>\n",
       "    <tr style=\"text-align: right;\">\n",
       "      <th>Product subcategorie</th>\n",
       "      <th>Abbey</th>\n",
       "      <th>Absinthe</th>\n",
       "      <th>Absintheserviceaccessories</th>\n",
       "      <th>Accessories</th>\n",
       "      <th>Aerators&amp;oxygenators</th>\n",
       "      <th>Aguardiente</th>\n",
       "      <th>Alcohol-free</th>\n",
       "      <th>Ale</th>\n",
       "      <th>Algae</th>\n",
       "      <th>Altbier</th>\n",
       "      <th>...</th>\n",
       "      <th>Wineserviceaccessories</th>\n",
       "      <th>Winestooffer</th>\n",
       "      <th>WinterAle</th>\n",
       "      <th>deGarde</th>\n",
       "      <th>fortified</th>\n",
       "      <th>icebuckets</th>\n",
       "      <th>red</th>\n",
       "      <th>sparkling</th>\n",
       "      <th>sweet</th>\n",
       "      <th>white</th>\n",
       "    </tr>\n",
       "    <tr>\n",
       "      <th>Order Id</th>\n",
       "      <th></th>\n",
       "      <th></th>\n",
       "      <th></th>\n",
       "      <th></th>\n",
       "      <th></th>\n",
       "      <th></th>\n",
       "      <th></th>\n",
       "      <th></th>\n",
       "      <th></th>\n",
       "      <th></th>\n",
       "      <th></th>\n",
       "      <th></th>\n",
       "      <th></th>\n",
       "      <th></th>\n",
       "      <th></th>\n",
       "      <th></th>\n",
       "      <th></th>\n",
       "      <th></th>\n",
       "      <th></th>\n",
       "      <th></th>\n",
       "      <th></th>\n",
       "    </tr>\n",
       "  </thead>\n",
       "  <tbody>\n",
       "    <tr>\n",
       "      <th>61865</th>\n",
       "      <td>NaN</td>\n",
       "      <td>NaN</td>\n",
       "      <td>NaN</td>\n",
       "      <td>NaN</td>\n",
       "      <td>NaN</td>\n",
       "      <td>NaN</td>\n",
       "      <td>NaN</td>\n",
       "      <td>NaN</td>\n",
       "      <td>NaN</td>\n",
       "      <td>NaN</td>\n",
       "      <td>...</td>\n",
       "      <td>NaN</td>\n",
       "      <td>NaN</td>\n",
       "      <td>NaN</td>\n",
       "      <td>NaN</td>\n",
       "      <td>NaN</td>\n",
       "      <td>NaN</td>\n",
       "      <td>NaN</td>\n",
       "      <td>NaN</td>\n",
       "      <td>NaN</td>\n",
       "      <td>NaN</td>\n",
       "    </tr>\n",
       "    <tr>\n",
       "      <th>62447</th>\n",
       "      <td>NaN</td>\n",
       "      <td>NaN</td>\n",
       "      <td>NaN</td>\n",
       "      <td>NaN</td>\n",
       "      <td>NaN</td>\n",
       "      <td>NaN</td>\n",
       "      <td>NaN</td>\n",
       "      <td>NaN</td>\n",
       "      <td>NaN</td>\n",
       "      <td>NaN</td>\n",
       "      <td>...</td>\n",
       "      <td>NaN</td>\n",
       "      <td>NaN</td>\n",
       "      <td>NaN</td>\n",
       "      <td>NaN</td>\n",
       "      <td>NaN</td>\n",
       "      <td>NaN</td>\n",
       "      <td>NaN</td>\n",
       "      <td>NaN</td>\n",
       "      <td>NaN</td>\n",
       "      <td>NaN</td>\n",
       "    </tr>\n",
       "    <tr>\n",
       "      <th>64401</th>\n",
       "      <td>NaN</td>\n",
       "      <td>NaN</td>\n",
       "      <td>NaN</td>\n",
       "      <td>NaN</td>\n",
       "      <td>NaN</td>\n",
       "      <td>NaN</td>\n",
       "      <td>NaN</td>\n",
       "      <td>NaN</td>\n",
       "      <td>NaN</td>\n",
       "      <td>NaN</td>\n",
       "      <td>...</td>\n",
       "      <td>NaN</td>\n",
       "      <td>NaN</td>\n",
       "      <td>NaN</td>\n",
       "      <td>NaN</td>\n",
       "      <td>NaN</td>\n",
       "      <td>NaN</td>\n",
       "      <td>NaN</td>\n",
       "      <td>NaN</td>\n",
       "      <td>NaN</td>\n",
       "      <td>NaN</td>\n",
       "    </tr>\n",
       "    <tr>\n",
       "      <th>64588</th>\n",
       "      <td>NaN</td>\n",
       "      <td>NaN</td>\n",
       "      <td>NaN</td>\n",
       "      <td>NaN</td>\n",
       "      <td>NaN</td>\n",
       "      <td>NaN</td>\n",
       "      <td>NaN</td>\n",
       "      <td>NaN</td>\n",
       "      <td>NaN</td>\n",
       "      <td>NaN</td>\n",
       "      <td>...</td>\n",
       "      <td>NaN</td>\n",
       "      <td>NaN</td>\n",
       "      <td>NaN</td>\n",
       "      <td>NaN</td>\n",
       "      <td>NaN</td>\n",
       "      <td>NaN</td>\n",
       "      <td>30.0</td>\n",
       "      <td>NaN</td>\n",
       "      <td>NaN</td>\n",
       "      <td>NaN</td>\n",
       "    </tr>\n",
       "    <tr>\n",
       "      <th>64674</th>\n",
       "      <td>NaN</td>\n",
       "      <td>NaN</td>\n",
       "      <td>NaN</td>\n",
       "      <td>NaN</td>\n",
       "      <td>NaN</td>\n",
       "      <td>NaN</td>\n",
       "      <td>NaN</td>\n",
       "      <td>NaN</td>\n",
       "      <td>NaN</td>\n",
       "      <td>NaN</td>\n",
       "      <td>...</td>\n",
       "      <td>NaN</td>\n",
       "      <td>NaN</td>\n",
       "      <td>NaN</td>\n",
       "      <td>NaN</td>\n",
       "      <td>NaN</td>\n",
       "      <td>NaN</td>\n",
       "      <td>NaN</td>\n",
       "      <td>NaN</td>\n",
       "      <td>NaN</td>\n",
       "      <td>NaN</td>\n",
       "    </tr>\n",
       "  </tbody>\n",
       "</table>\n",
       "<p>5 rows × 168 columns</p>\n",
       "</div>"
      ],
      "text/plain": [
       "Product subcategorie  Abbey  Absinthe  Absintheserviceaccessories  \\\n",
       "Order Id                                                            \n",
       "61865                   NaN       NaN                         NaN   \n",
       "62447                   NaN       NaN                         NaN   \n",
       "64401                   NaN       NaN                         NaN   \n",
       "64588                   NaN       NaN                         NaN   \n",
       "64674                   NaN       NaN                         NaN   \n",
       "\n",
       "Product subcategorie  Accessories  Aerators&oxygenators  Aguardiente  \\\n",
       "Order Id                                                               \n",
       "61865                         NaN                   NaN          NaN   \n",
       "62447                         NaN                   NaN          NaN   \n",
       "64401                         NaN                   NaN          NaN   \n",
       "64588                         NaN                   NaN          NaN   \n",
       "64674                         NaN                   NaN          NaN   \n",
       "\n",
       "Product subcategorie  Alcohol-free  Ale  Algae  Altbier  ...  \\\n",
       "Order Id                                                 ...   \n",
       "61865                          NaN  NaN    NaN      NaN  ...   \n",
       "62447                          NaN  NaN    NaN      NaN  ...   \n",
       "64401                          NaN  NaN    NaN      NaN  ...   \n",
       "64588                          NaN  NaN    NaN      NaN  ...   \n",
       "64674                          NaN  NaN    NaN      NaN  ...   \n",
       "\n",
       "Product subcategorie  Wineserviceaccessories  Winestooffer  WinterAle  \\\n",
       "Order Id                                                                \n",
       "61865                                    NaN           NaN        NaN   \n",
       "62447                                    NaN           NaN        NaN   \n",
       "64401                                    NaN           NaN        NaN   \n",
       "64588                                    NaN           NaN        NaN   \n",
       "64674                                    NaN           NaN        NaN   \n",
       "\n",
       "Product subcategorie  deGarde  fortified  icebuckets   red  sparkling  sweet  \\\n",
       "Order Id                                                                       \n",
       "61865                     NaN        NaN         NaN   NaN        NaN    NaN   \n",
       "62447                     NaN        NaN         NaN   NaN        NaN    NaN   \n",
       "64401                     NaN        NaN         NaN   NaN        NaN    NaN   \n",
       "64588                     NaN        NaN         NaN  30.0        NaN    NaN   \n",
       "64674                     NaN        NaN         NaN   NaN        NaN    NaN   \n",
       "\n",
       "Product subcategorie  white  \n",
       "Order Id                     \n",
       "61865                   NaN  \n",
       "62447                   NaN  \n",
       "64401                   NaN  \n",
       "64588                   NaN  \n",
       "64674                   NaN  \n",
       "\n",
       "[5 rows x 168 columns]"
      ]
     },
     "execution_count": 185,
     "metadata": {},
     "output_type": "execute_result"
    }
   ],
   "source": [
    "pivot_table = pd.pivot_table(df,columns = ['Product subcategorie'],values = 'Product quantity', index = ['Order Id'])\n",
    "pivot_table.head()"
   ]
  },
  {
   "cell_type": "code",
   "execution_count": 186,
   "metadata": {
    "scrolled": false
   },
   "outputs": [
    {
     "data": {
      "text/html": [
       "<div>\n",
       "<style scoped>\n",
       "    .dataframe tbody tr th:only-of-type {\n",
       "        vertical-align: middle;\n",
       "    }\n",
       "\n",
       "    .dataframe tbody tr th {\n",
       "        vertical-align: top;\n",
       "    }\n",
       "\n",
       "    .dataframe thead th {\n",
       "        text-align: right;\n",
       "    }\n",
       "</style>\n",
       "<table border=\"1\" class=\"dataframe\">\n",
       "  <thead>\n",
       "    <tr style=\"text-align: right;\">\n",
       "      <th>Product subcategorie</th>\n",
       "      <th>Abbey</th>\n",
       "      <th>Absinthe</th>\n",
       "      <th>Absintheserviceaccessories</th>\n",
       "      <th>Accessories</th>\n",
       "      <th>Aerators&amp;oxygenators</th>\n",
       "      <th>Aguardiente</th>\n",
       "      <th>Alcohol-free</th>\n",
       "      <th>Ale</th>\n",
       "      <th>Algae</th>\n",
       "      <th>Altbier</th>\n",
       "      <th>...</th>\n",
       "      <th>Wineserviceaccessories</th>\n",
       "      <th>Winestooffer</th>\n",
       "      <th>WinterAle</th>\n",
       "      <th>deGarde</th>\n",
       "      <th>fortified</th>\n",
       "      <th>icebuckets</th>\n",
       "      <th>red</th>\n",
       "      <th>sparkling</th>\n",
       "      <th>sweet</th>\n",
       "      <th>white</th>\n",
       "    </tr>\n",
       "    <tr>\n",
       "      <th>Order Id</th>\n",
       "      <th></th>\n",
       "      <th></th>\n",
       "      <th></th>\n",
       "      <th></th>\n",
       "      <th></th>\n",
       "      <th></th>\n",
       "      <th></th>\n",
       "      <th></th>\n",
       "      <th></th>\n",
       "      <th></th>\n",
       "      <th></th>\n",
       "      <th></th>\n",
       "      <th></th>\n",
       "      <th></th>\n",
       "      <th></th>\n",
       "      <th></th>\n",
       "      <th></th>\n",
       "      <th></th>\n",
       "      <th></th>\n",
       "      <th></th>\n",
       "      <th></th>\n",
       "    </tr>\n",
       "  </thead>\n",
       "  <tbody>\n",
       "    <tr>\n",
       "      <th>61865</th>\n",
       "      <td>0</td>\n",
       "      <td>0</td>\n",
       "      <td>0</td>\n",
       "      <td>0</td>\n",
       "      <td>0</td>\n",
       "      <td>0</td>\n",
       "      <td>0</td>\n",
       "      <td>0</td>\n",
       "      <td>0</td>\n",
       "      <td>0</td>\n",
       "      <td>...</td>\n",
       "      <td>0</td>\n",
       "      <td>0</td>\n",
       "      <td>0</td>\n",
       "      <td>0</td>\n",
       "      <td>0</td>\n",
       "      <td>0</td>\n",
       "      <td>0</td>\n",
       "      <td>0</td>\n",
       "      <td>0</td>\n",
       "      <td>0</td>\n",
       "    </tr>\n",
       "    <tr>\n",
       "      <th>62447</th>\n",
       "      <td>0</td>\n",
       "      <td>0</td>\n",
       "      <td>0</td>\n",
       "      <td>0</td>\n",
       "      <td>0</td>\n",
       "      <td>0</td>\n",
       "      <td>0</td>\n",
       "      <td>0</td>\n",
       "      <td>0</td>\n",
       "      <td>0</td>\n",
       "      <td>...</td>\n",
       "      <td>0</td>\n",
       "      <td>0</td>\n",
       "      <td>0</td>\n",
       "      <td>0</td>\n",
       "      <td>0</td>\n",
       "      <td>0</td>\n",
       "      <td>0</td>\n",
       "      <td>0</td>\n",
       "      <td>0</td>\n",
       "      <td>0</td>\n",
       "    </tr>\n",
       "    <tr>\n",
       "      <th>64401</th>\n",
       "      <td>0</td>\n",
       "      <td>0</td>\n",
       "      <td>0</td>\n",
       "      <td>0</td>\n",
       "      <td>0</td>\n",
       "      <td>0</td>\n",
       "      <td>0</td>\n",
       "      <td>0</td>\n",
       "      <td>0</td>\n",
       "      <td>0</td>\n",
       "      <td>...</td>\n",
       "      <td>0</td>\n",
       "      <td>0</td>\n",
       "      <td>0</td>\n",
       "      <td>0</td>\n",
       "      <td>0</td>\n",
       "      <td>0</td>\n",
       "      <td>0</td>\n",
       "      <td>0</td>\n",
       "      <td>0</td>\n",
       "      <td>0</td>\n",
       "    </tr>\n",
       "    <tr>\n",
       "      <th>64588</th>\n",
       "      <td>0</td>\n",
       "      <td>0</td>\n",
       "      <td>0</td>\n",
       "      <td>0</td>\n",
       "      <td>0</td>\n",
       "      <td>0</td>\n",
       "      <td>0</td>\n",
       "      <td>0</td>\n",
       "      <td>0</td>\n",
       "      <td>0</td>\n",
       "      <td>...</td>\n",
       "      <td>0</td>\n",
       "      <td>0</td>\n",
       "      <td>0</td>\n",
       "      <td>0</td>\n",
       "      <td>0</td>\n",
       "      <td>0</td>\n",
       "      <td>1</td>\n",
       "      <td>0</td>\n",
       "      <td>0</td>\n",
       "      <td>0</td>\n",
       "    </tr>\n",
       "    <tr>\n",
       "      <th>64674</th>\n",
       "      <td>0</td>\n",
       "      <td>0</td>\n",
       "      <td>0</td>\n",
       "      <td>0</td>\n",
       "      <td>0</td>\n",
       "      <td>0</td>\n",
       "      <td>0</td>\n",
       "      <td>0</td>\n",
       "      <td>0</td>\n",
       "      <td>0</td>\n",
       "      <td>...</td>\n",
       "      <td>0</td>\n",
       "      <td>0</td>\n",
       "      <td>0</td>\n",
       "      <td>0</td>\n",
       "      <td>0</td>\n",
       "      <td>0</td>\n",
       "      <td>0</td>\n",
       "      <td>0</td>\n",
       "      <td>0</td>\n",
       "      <td>0</td>\n",
       "    </tr>\n",
       "  </tbody>\n",
       "</table>\n",
       "<p>5 rows × 168 columns</p>\n",
       "</div>"
      ],
      "text/plain": [
       "Product subcategorie  Abbey  Absinthe  Absintheserviceaccessories  \\\n",
       "Order Id                                                            \n",
       "61865                     0         0                           0   \n",
       "62447                     0         0                           0   \n",
       "64401                     0         0                           0   \n",
       "64588                     0         0                           0   \n",
       "64674                     0         0                           0   \n",
       "\n",
       "Product subcategorie  Accessories  Aerators&oxygenators  Aguardiente  \\\n",
       "Order Id                                                               \n",
       "61865                           0                     0            0   \n",
       "62447                           0                     0            0   \n",
       "64401                           0                     0            0   \n",
       "64588                           0                     0            0   \n",
       "64674                           0                     0            0   \n",
       "\n",
       "Product subcategorie  Alcohol-free  Ale  Algae  Altbier  ...  \\\n",
       "Order Id                                                 ...   \n",
       "61865                            0    0      0        0  ...   \n",
       "62447                            0    0      0        0  ...   \n",
       "64401                            0    0      0        0  ...   \n",
       "64588                            0    0      0        0  ...   \n",
       "64674                            0    0      0        0  ...   \n",
       "\n",
       "Product subcategorie  Wineserviceaccessories  Winestooffer  WinterAle  \\\n",
       "Order Id                                                                \n",
       "61865                                      0             0          0   \n",
       "62447                                      0             0          0   \n",
       "64401                                      0             0          0   \n",
       "64588                                      0             0          0   \n",
       "64674                                      0             0          0   \n",
       "\n",
       "Product subcategorie  deGarde  fortified  icebuckets  red  sparkling  sweet  \\\n",
       "Order Id                                                                      \n",
       "61865                       0          0           0    0          0      0   \n",
       "62447                       0          0           0    0          0      0   \n",
       "64401                       0          0           0    0          0      0   \n",
       "64588                       0          0           0    1          0      0   \n",
       "64674                       0          0           0    0          0      0   \n",
       "\n",
       "Product subcategorie  white  \n",
       "Order Id                     \n",
       "61865                     0  \n",
       "62447                     0  \n",
       "64401                     0  \n",
       "64588                     0  \n",
       "64674                     0  \n",
       "\n",
       "[5 rows x 168 columns]"
      ]
     },
     "execution_count": 186,
     "metadata": {},
     "output_type": "execute_result"
    }
   ],
   "source": [
    "\n",
    "def encode_values(x):\n",
    "    if x == True:\n",
    "        return 0\n",
    "    else:\n",
    "        return 1    \n",
    "\n",
    "pivot_table = pivot_table.isna()\n",
    "pivot_table = pivot_table.applymap(encode_values)\n",
    "pivot_table.head()"
   ]
  },
  {
   "cell_type": "code",
   "execution_count": 187,
   "metadata": {
    "scrolled": true
   },
   "outputs": [
    {
     "data": {
      "text/plain": [
       "Product subcategorie\n",
       "Abbey                           403\n",
       "Absinthe                       1274\n",
       "Absintheserviceaccessories      208\n",
       "Accessories                      39\n",
       "Aerators&oxygenators              6\n",
       "Aguardiente                    1148\n",
       "Alcohol-free                    571\n",
       "Ale                             704\n",
       "Algae                             4\n",
       "Altbier                           9\n",
       "Amaretto                        472\n",
       "AmbrÃ©ebeer                      77\n",
       "AmericanPaleAle                  10\n",
       "Anise                          1864\n",
       "Appetizers                       31\n",
       "Armagnac                        630\n",
       "Aromakits                       130\n",
       "Bakery                           23\n",
       "Barleywine                       76\n",
       "BelgianStrongPaleAle              4\n",
       "Bio                               4\n",
       "Bitter                          828\n",
       "BlackIPA                          3\n",
       "Blackbeer                       145\n",
       "BlondAle                        122\n",
       "Bock                             59\n",
       "Books                             6\n",
       "Bottleracks                       7\n",
       "Bourbon                        1833\n",
       "Brandy                        10069\n",
       "                              ...  \n",
       "Stout                           179\n",
       "StrongAle                       206\n",
       "Sugar                            10\n",
       "Syrup                           964\n",
       "Teaandinfusions                  51\n",
       "Tequila                        2234\n",
       "Textures                         90\n",
       "Thermometers                      3\n",
       "Tonic                          1202\n",
       "Trappist                        299\n",
       "TripleSec                       812\n",
       "Vermouth                       4165\n",
       "Vinegars                        224\n",
       "Vodka                         16856\n",
       "Water                            86\n",
       "Wheat                           374\n",
       "Whiskey                       30058\n",
       "WhiskeyCream                    483\n",
       "Wineboxes                      1821\n",
       "Winecellars                      56\n",
       "Wineserviceaccessories          268\n",
       "Winestooffer                      2\n",
       "WinterAle                         8\n",
       "deGarde                          89\n",
       "fortified                      5896\n",
       "icebuckets                       44\n",
       "red                           66772\n",
       "sparkling                     16773\n",
       "sweet                          1505\n",
       "white                         30569\n",
       "Length: 168, dtype: int64"
      ]
     },
     "execution_count": 187,
     "metadata": {},
     "output_type": "execute_result"
    }
   ],
   "source": [
    "pivot_table.sum()"
   ]
  },
  {
   "cell_type": "code",
   "execution_count": 188,
   "metadata": {},
   "outputs": [],
   "source": [
    "frequent_itemsets = apriori(pivot_table, min_support=0.001, use_colnames=True)"
   ]
  },
  {
   "cell_type": "code",
   "execution_count": 189,
   "metadata": {},
   "outputs": [
    {
     "data": {
      "text/html": [
       "<div>\n",
       "<style scoped>\n",
       "    .dataframe tbody tr th:only-of-type {\n",
       "        vertical-align: middle;\n",
       "    }\n",
       "\n",
       "    .dataframe tbody tr th {\n",
       "        vertical-align: top;\n",
       "    }\n",
       "\n",
       "    .dataframe thead th {\n",
       "        text-align: right;\n",
       "    }\n",
       "</style>\n",
       "<table border=\"1\" class=\"dataframe\">\n",
       "  <thead>\n",
       "    <tr style=\"text-align: right;\">\n",
       "      <th></th>\n",
       "      <th>antecedents</th>\n",
       "      <th>consequents</th>\n",
       "      <th>confidence</th>\n",
       "    </tr>\n",
       "  </thead>\n",
       "  <tbody>\n",
       "    <tr>\n",
       "      <th>242</th>\n",
       "      <td>(Vodka, Pastis)</td>\n",
       "      <td>(Whiskey)</td>\n",
       "      <td>0.672165</td>\n",
       "    </tr>\n",
       "    <tr>\n",
       "      <th>235</th>\n",
       "      <td>(Rum, Pastis)</td>\n",
       "      <td>(Whiskey)</td>\n",
       "      <td>0.639037</td>\n",
       "    </tr>\n",
       "    <tr>\n",
       "      <th>278</th>\n",
       "      <td>(white, fortified)</td>\n",
       "      <td>(red)</td>\n",
       "      <td>0.600398</td>\n",
       "    </tr>\n",
       "    <tr>\n",
       "      <th>165</th>\n",
       "      <td>(Rum, Cognac)</td>\n",
       "      <td>(Whiskey)</td>\n",
       "      <td>0.598361</td>\n",
       "    </tr>\n",
       "    <tr>\n",
       "      <th>172</th>\n",
       "      <td>(Vodka, Cognac)</td>\n",
       "      <td>(Whiskey)</td>\n",
       "      <td>0.597973</td>\n",
       "    </tr>\n",
       "    <tr>\n",
       "      <th>285</th>\n",
       "      <td>(white, sparkling)</td>\n",
       "      <td>(red)</td>\n",
       "      <td>0.593766</td>\n",
       "    </tr>\n",
       "    <tr>\n",
       "      <th>117</th>\n",
       "      <td>(Rum, Bourbon)</td>\n",
       "      <td>(Whiskey)</td>\n",
       "      <td>0.579345</td>\n",
       "    </tr>\n",
       "    <tr>\n",
       "      <th>275</th>\n",
       "      <td>(white, Whiskey)</td>\n",
       "      <td>(red)</td>\n",
       "      <td>0.553229</td>\n",
       "    </tr>\n",
       "    <tr>\n",
       "      <th>176</th>\n",
       "      <td>(Rum, Fruitliquor)</td>\n",
       "      <td>(Vodka)</td>\n",
       "      <td>0.546512</td>\n",
       "    </tr>\n",
       "    <tr>\n",
       "      <th>252</th>\n",
       "      <td>(Rosé, red)</td>\n",
       "      <td>(white)</td>\n",
       "      <td>0.540500</td>\n",
       "    </tr>\n",
       "    <tr>\n",
       "      <th>247</th>\n",
       "      <td>(Rosé, sparkling)</td>\n",
       "      <td>(red)</td>\n",
       "      <td>0.536946</td>\n",
       "    </tr>\n",
       "    <tr>\n",
       "      <th>206</th>\n",
       "      <td>(white, Gin)</td>\n",
       "      <td>(red)</td>\n",
       "      <td>0.529695</td>\n",
       "    </tr>\n",
       "    <tr>\n",
       "      <th>224</th>\n",
       "      <td>(Herballiquor, Vodka)</td>\n",
       "      <td>(Whiskey)</td>\n",
       "      <td>0.527228</td>\n",
       "    </tr>\n",
       "    <tr>\n",
       "      <th>253</th>\n",
       "      <td>(Rosé, white)</td>\n",
       "      <td>(red)</td>\n",
       "      <td>0.519651</td>\n",
       "    </tr>\n",
       "    <tr>\n",
       "      <th>270</th>\n",
       "      <td>(white, Rum)</td>\n",
       "      <td>(red)</td>\n",
       "      <td>0.505618</td>\n",
       "    </tr>\n",
       "    <tr>\n",
       "      <th>260</th>\n",
       "      <td>(Vodka, Tequila)</td>\n",
       "      <td>(Rum)</td>\n",
       "      <td>0.504587</td>\n",
       "    </tr>\n",
       "  </tbody>\n",
       "</table>\n",
       "</div>"
      ],
      "text/plain": [
       "               antecedents consequents  confidence\n",
       "242        (Vodka, Pastis)   (Whiskey)    0.672165\n",
       "235          (Rum, Pastis)   (Whiskey)    0.639037\n",
       "278     (white, fortified)       (red)    0.600398\n",
       "165          (Rum, Cognac)   (Whiskey)    0.598361\n",
       "172        (Vodka, Cognac)   (Whiskey)    0.597973\n",
       "285     (white, sparkling)       (red)    0.593766\n",
       "117         (Rum, Bourbon)   (Whiskey)    0.579345\n",
       "275       (white, Whiskey)       (red)    0.553229\n",
       "176     (Rum, Fruitliquor)     (Vodka)    0.546512\n",
       "252            (Rosé, red)     (white)    0.540500\n",
       "247      (Rosé, sparkling)       (red)    0.536946\n",
       "206           (white, Gin)       (red)    0.529695\n",
       "224  (Herballiquor, Vodka)   (Whiskey)    0.527228\n",
       "253          (Rosé, white)       (red)    0.519651\n",
       "270           (white, Rum)       (red)    0.505618\n",
       "260       (Vodka, Tequila)       (Rum)    0.504587"
      ]
     },
     "execution_count": 189,
     "metadata": {},
     "output_type": "execute_result"
    }
   ],
   "source": [
    "rules = association_rules(frequent_itemsets, metric=\"lift\")\n",
    "rules = rules.sort_values('confidence',ascending=False)\n",
    "#rules.head()\n",
    "rules[['antecedents','consequents','confidence']].head(16)\n"
   ]
  }
 ],
 "metadata": {
  "kernelspec": {
   "display_name": "Python 3",
   "language": "python",
   "name": "python3"
  },
  "language_info": {
   "codemirror_mode": {
    "name": "ipython",
    "version": 3
   },
   "file_extension": ".py",
   "mimetype": "text/x-python",
   "name": "python",
   "nbconvert_exporter": "python",
   "pygments_lexer": "ipython3",
   "version": "3.7.3"
  }
 },
 "nbformat": 4,
 "nbformat_minor": 2
}
